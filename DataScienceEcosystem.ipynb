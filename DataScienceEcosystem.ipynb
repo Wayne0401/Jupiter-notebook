{
 "cells": [
  {
   "cell_type": "markdown",
   "id": "5693f1a7-48a3-4a3a-a0ff-cb040f57f83f",
   "metadata": {},
   "source": [
    "Exercise 1: Create a Jupyter Notebook\n",
    "\n",
    "-Create a new Jupyter notebook called DataScienceEcosystem.ipynb"
   ]
  },
  {
   "cell_type": "code",
   "execution_count": 1,
   "id": "055c7371-3afd-441c-8a5b-1af0960ed643",
   "metadata": {},
   "outputs": [],
   "source": [
    "# click file and rename notebook"
   ]
  },
  {
   "cell_type": "markdown",
   "id": "b427bd6d-8f66-4dd1-8185-347e95408768",
   "metadata": {},
   "source": [
    "Exercise 2: Create markdown cell with title of the notebook\n",
    "\n",
    "Create a markdown cell with the title Data Science Tools and Ecosystem using H1 style heading."
   ]
  },
  {
   "cell_type": "markdown",
   "id": "16e57948-a672-4803-acb2-cc75babfb6a2",
   "metadata": {},
   "source": [
    "# Data Science Tools and Ecosystem"
   ]
  },
  {
   "cell_type": "markdown",
   "id": "b1d821fb-dfbc-42ef-b73d-dc009cb8d803",
   "metadata": {},
   "source": [
    "Exercise 3 - Create a markdown cell for an introduction\n",
    "\n",
    "Write an introductory sentence about the notebook such as the follows:"
   ]
  },
  {
   "cell_type": "markdown",
   "id": "c75b960e-39fa-4f5a-bf78-6e4b2b40d11c",
   "metadata": {},
   "source": [
    "## In this notebook, Data Science Tools and Ecosystem are summarized."
   ]
  },
  {
   "cell_type": "markdown",
   "id": "1de70835-99de-4908-a1c2-48a6c888287d",
   "metadata": {},
   "source": [
    "Exercise 4 - Create a markdown cell to list data science languages"
   ]
  },
  {
   "cell_type": "markdown",
   "id": "a94eaaa5-7b1d-4689-ae4b-08abc2906571",
   "metadata": {},
   "source": [
    "Some of the popular languages that Data Scientists use are:\n",
    "1. python\n",
    "2. R\n",
    "3. SQL"
   ]
  },
  {
   "cell_type": "markdown",
   "id": "261b56c6-5d67-4701-89f4-69fb845ad5ef",
   "metadata": {},
   "source": [
    "Exercise 5 - Create a markdown cell to list data science libraries\n",
    "\n",
    "Some of the commonly used libraries used by Data Scientists include:\n",
    "1. pandas\n",
    "2. numpy\n",
    "3. matplotlib\n",
    "4. seaborn\n",
    "5. scikit_learn\n"
   ]
  },
  {
   "cell_type": "markdown",
   "id": "3f130b9e-6f8b-487d-bd88-86ce6504adbf",
   "metadata": {},
   "source": [
    "Exercise 6 - Create a markdown cell with a table of Data Science tools\n",
    "\n",
    "Create a single column table in this cell with the first row containing the header Data Science Tools. The subsequent three rows in the table should indicate three development environment open source tools used in data science.\n",
    "| Data Science Tools|\n",
    "|--------------------|\n",
    "|VScode|\n",
    "|jupiterlab|\n",
    "|Anaconda|"
   ]
  },
  {
   "cell_type": "markdown",
   "id": "483cd4c4-9aac-4f30-84e4-892c9da8b45e",
   "metadata": {},
   "source": [
    "Exercise 7 - Create a markdown cell introducing arithmetic expression examples\n",
    "\n",
    "Add a line in this cell with H3 style heading with text like:\n",
    "### Below are a few examples of evaluating arithmetic expressions in Python"
   ]
  },
  {
   "cell_type": "markdown",
   "id": "827a42b6-0c26-4d73-ad38-a93d2c9a5cbd",
   "metadata": {},
   "source": [
    "Exercise 8 - Create a code cell to multiply and add numbers\n",
    "\n",
    "In this code cell evaluate the expression (3*4)+5."
   ]
  },
  {
   "cell_type": "code",
   "execution_count": 2,
   "id": "ed9f3ea8-69f8-42bb-9397-cbbe7b777b65",
   "metadata": {},
   "outputs": [
    {
     "data": {
      "text/plain": [
       "17"
      ]
     },
     "execution_count": 2,
     "metadata": {},
     "output_type": "execute_result"
    }
   ],
   "source": [
    "#This a simple arithmetic expression to mutiply then add integers.\n",
    "(3*4)+5"
   ]
  },
  {
   "cell_type": "markdown",
   "id": "4cd3d0f9-9e2f-41b2-8db6-9aa2c2d1584e",
   "metadata": {},
   "source": [
    "Exercise 9 - Create a code cell to convert minutes to hours\n",
    "\n",
    "In this code cell write an expression that converts 200 minutes into hours"
   ]
  },
  {
   "cell_type": "code",
   "execution_count": 3,
   "id": "ddd9a2ff-8316-48f7-9ca9-616266c82db0",
   "metadata": {},
   "outputs": [
    {
     "data": {
      "text/plain": [
       "3.3333333333333335"
      ]
     },
     "execution_count": 3,
     "metadata": {},
     "output_type": "execute_result"
    }
   ],
   "source": [
    "# This will convert 200 minutes to hours by diving by 60.\n",
    "200/60"
   ]
  },
  {
   "cell_type": "markdown",
   "id": "cb06a2fe-1415-4f81-b0c1-abc606578dcd",
   "metadata": {},
   "source": [
    "Exercise 10 - Insert a markdown cell to list Objectives\n",
    "\n",
    "Below the introduction cell created in Exercise 3, insert a new markdown cell to list the objectives that this notebook covered (i.e. some of the key takeaways from the course). In this new cell start with an introductory line titled: Objectives: in bold font. Then using an unordered list (bullets) indicate 3 to 5 items covered in this notebook, such as List popular languages for Data Science."
   ]
  },
  {
   "cell_type": "markdown",
   "id": "289f1a7f-0a5e-4cb7-88d8-69fdea808b61",
   "metadata": {},
   "source": [
    "## In this notebook, Data Science Tools and Ecosystem are summarized.\n",
    "**objectives:**\n",
    "- popular language for data science\n",
    "- libraries used by data scientist\n",
    "- open source tools\n"
   ]
  },
  {
   "cell_type": "markdown",
   "id": "d8d67e45-be20-401f-bcfc-0ea190d3fb9e",
   "metadata": {},
   "source": [
    "Exercise 11 - Create a markdown cell to indicate the Author's name\n",
    "\n",
    "In this markdown cell markdown cell include the following text Author in H2 style heading. Include your name as regular text below the word Author."
   ]
  },
  {
   "cell_type": "markdown",
   "id": "69b1c533-f2f8-48c2-a9e0-a1a820fe8100",
   "metadata": {},
   "source": [
    "## Author:\n",
    "Wayne LI"
   ]
  },
  {
   "cell_type": "code",
   "execution_count": null,
   "id": "2bf99520-948d-468c-964c-001793ddf028",
   "metadata": {},
   "outputs": [],
   "source": []
  }
 ],
 "metadata": {
  "kernelspec": {
   "display_name": "Python 3 (ipykernel)",
   "language": "python",
   "name": "python3"
  },
  "language_info": {
   "codemirror_mode": {
    "name": "ipython",
    "version": 3
   },
   "file_extension": ".py",
   "mimetype": "text/x-python",
   "name": "python",
   "nbconvert_exporter": "python",
   "pygments_lexer": "ipython3",
   "version": "3.11.9"
  }
 },
 "nbformat": 4,
 "nbformat_minor": 5
}
